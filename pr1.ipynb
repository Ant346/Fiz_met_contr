{
 "metadata": {
  "language_info": {
   "codemirror_mode": {
    "name": "ipython",
    "version": 3
   },
   "file_extension": ".py",
   "mimetype": "text/x-python",
   "name": "python",
   "nbconvert_exporter": "python",
   "pygments_lexer": "ipython3",
   "version": "3.8.5-final"
  },
  "orig_nbformat": 2,
  "kernelspec": {
   "name": "python3",
   "display_name": "Python 3.8.5 32-bit",
   "metadata": {
    "interpreter": {
     "hash": "da0ebdb0063591e8656be8f5d83dfb24c7440b18257da1d1e3ac92b19370ed5d"
    }
   }
  }
 },
 "nbformat": 4,
 "nbformat_minor": 2,
 "cells": [
  {
   "cell_type": "code",
   "execution_count": 31,
   "metadata": {},
   "outputs": [],
   "source": [
    "from tkinter import *\n",
    "from win32api import GetSystemMetrics\n",
    "from tkinter.ttk import Frame, Button, Style\n",
    "\n",
    "width_w=300\n",
    "height_w=350\n",
    "\n",
    "width_c=GetSystemMetrics(0)//2-width_w//2\n",
    "height_c=GetSystemMetrics(1)//2-height_w//2\n",
    "\n",
    "root = Tk()\n",
    "root.title(\"Практическая работа #1 \")\n",
    "root.geometry(\"%dx%d+%d+%d\"%(width_w,height_w,width_c,height_c))\n",
    " # загенерили окно посередине экрана\n",
    "s=['W','L','r','I','f']\n",
    "r=['','м','м','А','Гц']\n",
    "i=0\n",
    "n=5\n",
    "\n",
    "\n",
    "\n",
    "#int_message.set(0 for i in range (5))\n",
    "#int_message2.set(0 for i in range (5))\n",
    "\n",
    "def click_button(): #функция, которая вызывается при нажатии на кнопку\n",
    "    global int_message\n",
    "    global int_message2\n",
    "    int_message=[int(message_in[i].get()) for i in range(n) ] #лист, содержащий вывод с форм ввода 2 столбца\n",
    "    int_message2=[int(message_in2[i].get()) for i in range(n) ] #лист, содержащий вывод с форм ввода 4 столбца\n",
    "    print(int_message)\n",
    "    print(int_message2)\n",
    "\n",
    "message_in =[IntVar() for i in range (n)] #лист значений выведенных с поля ввода 2 столбца\n",
    "message_in2 =[IntVar() for i in range (n)] #лист значений выведенных с поля ввода 4 столбца\n",
    "message_entry=[Entry() for i in range (n)] #лист объектов типа поля ввода 2 столбца\n",
    "message_entry2=[Entry() for i in range (n)] #лист объектов типа поля ввода 4 столбца\n",
    "\n",
    "for i in range (n): #основной цикл генерции объектов в окне и их расположения по  сетке\n",
    "    label1 = Label(text=\"%s=\"%(s[i]),width=1,padx=10,justify=\"right\")# описание 1 столбца\n",
    "    label1.grid(row=i+1, column=1, ipadx=1, ipady=6, padx=1, pady=10,sticky=\"e\")# его расположение\n",
    "\n",
    "    message_entry[i] = Entry(bd=2,justify='left',textvariable=message_in[int('%d'%(i))])# описание 2 столбца\n",
    "    message_entry[i].grid(row=i+1, column=2, ipadx=1, ipady=6, padx=1, pady=10)\n",
    "\n",
    "    label1 = Label(text=\"*10^\")# описание 1 столбца\n",
    "    label1.grid(row=i+1, column=3, ipadx=1, ipady=6, padx=1, pady=10)\n",
    "\n",
    "    message_entry2[i] = Entry(textvariable=message_in2[int(('%d')%(i))],bd=2,justify='left',width=5)# описание 3 столбца\n",
    "    message_entry2[i].grid(row=i+1, column=4, ipadx=1, ipady=6, padx=1, pady=10)\n",
    "\n",
    "    label1 = Label(text=\"%s\"%(r[i]))# описание 4 столбца\n",
    "    label1.grid(row=i+1, column=5, ipadx=1, ipady=6, padx=1, pady=10)\n",
    "\n",
    "btn = Button( text=\"Ok\",command=click_button) # описание кнопки\n",
    "btn.grid(row=i+2, column=2, ipadx=10, ipady=6, padx=1, pady=10,columnspan=2)\n",
    "\n",
    "root.mainloop()\n",
    "\n"
   ]
  },
  {
   "cell_type": "code",
   "execution_count": null,
   "metadata": {},
   "outputs": [],
   "source": []
  }
 ]
}