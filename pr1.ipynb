{
 "metadata": {
  "language_info": {
   "codemirror_mode": {
    "name": "ipython",
    "version": 3
   },
   "file_extension": ".py",
   "mimetype": "text/x-python",
   "name": "python",
   "nbconvert_exporter": "python",
   "pygments_lexer": "ipython3",
   "version": "3.9.1-final"
  },
  "orig_nbformat": 2,
  "kernelspec": {
   "name": "python39164bit531b03fef9b54e418546cd7484d140fe",
   "display_name": "Python 3.9.1 64-bit",
   "language": "python"
  }
 },
 "nbformat": 4,
 "nbformat_minor": 2,
 "cells": [
  {
   "cell_type": "code",
   "execution_count": 12,
   "metadata": {},
   "outputs": [
    {
     "output_type": "stream",
     "name": "stdout",
     "text": [
      "50000.0\nИсходные данные:\n[1, 2, 0, 1, 0]\n[10, 0.01, 1, 1000, 1]\n\n1) намагничивающая сила катушки равна произведению тока в катушке на ее число витков:\nF = I * W = 1000 A\n\n2) для длинных катушек, у которых l ≥10 r согласно закону полного тока:\nH = (I * W)/ L = 500.0 кА/м\n\n3) определяем магнитную индукцию внутри катушки. Для воздуха относительная магнитная проницаемость μ=1, следовательно, B = μ0 * H = 4 * π * 10^-7 * H = 0.6283185307179586 мТл\n\n4) определяем магнитный поток: Ф = B * S = B * π * r^2 = 0.0 мкВб\n"
     ]
    }
   ],
   "source": [
    "from tkinter import *\n",
    "from win32api import GetSystemMetrics\n",
    "from tkinter.ttk import Frame, Button, Style\n",
    "import numpy as np\n",
    "import math as m\n",
    "\n",
    "width_w=300\n",
    "height_w=350\n",
    "\n",
    "width_c=GetSystemMetrics(0)//2-width_w//2\n",
    "height_c=GetSystemMetrics(1)//2-height_w//2\n",
    "\n",
    "root = Tk()\n",
    "root.title(\"Практическая работа #1 \")\n",
    "root.geometry(\"%dx%d+%d+%d\"%(width_w,height_w,width_c,height_c))\n",
    " # загенерили окно посередине экрана\n",
    "s=['W','L','r','I','f']\n",
    "r=['','м','м','А','Гц']\n",
    "i=0\n",
    "n=5\n",
    "results=[0,0,0,0,0]\n",
    "\n",
    "\n",
    "#int_message.set(0 for i in range (5))\n",
    "#int_message2.set(0 for i in range (5))\n",
    "\n",
    "def click_button(): #функция, которая вызывается при нажатии на кнопку\n",
    "    global int_message\n",
    "    global int_message2\n",
    "    int_message=[int(message_in[i].get()) for i in range(n) ] #лист, содержащий вывод с форм ввода 2 столбца\n",
    "    int_message2=[int(message_in2[i].get()) for i in range(n) ] #лист, содержащий вывод с форм ввода 4 столбца\n",
    "\n",
    "    # Код Романа --ОПАСНО--\n",
    "    for i in range(n):\n",
    "        int_message2[i]=10**int_message2[i]\n",
    "\n",
    "    results[0] = int_message[0] * int_message[3] * int_message2[3]\n",
    "    results[1] = results[0] / (int_message[1] * int_message2[1]) \n",
    "    print(str(results[0] / int_message[1] / int_message2[1] * 10e-3))\n",
    "    results[2] = 4 * m.pi * 10e-7 * results[1]\n",
    "    results[3] = results[2] * m.pi * int_message[2] * int_message2[2]\n",
    "\n",
    "    print(\"Исходные данные:\")\n",
    "    print(int_message)\n",
    "    print(int_message2)\n",
    "    print(\"\\n1) намагничивающая сила катушки равна произведению тока в катушке на ее число витков:\\nF = I * W = \" + str(results[0]) + \" A\")\n",
    "    print(\"\\n2) для длинных катушек, у которых l ≥10 r согласно закону полного тока:\\nH = (I * W)/ L = \" + str(results[1] * 1e-3) + \" кА/м\")\n",
    "    print(\"\\n3) определяем магнитную индукцию внутри катушки. Для воздуха относительная магнитная проницаемость μ=1, следовательно, B = μ0 * H = 4 * π * 10^-7 * H = \" + str(results[2]) + \" мТл\")\n",
    "    print(\"\\n4) определяем магнитный поток: Ф = B * S = B * π * r^2 = \" + str(results[3]) + \" мкВб\")\n",
    "    # Спокойно, код Романа закончился\n",
    "\n",
    "message_in =[IntVar() for i in range (n)] #лист значений выведенных с поля ввода 2 столбца\n",
    "message_in2 =[IntVar() for i in range (n)] #лист значений выведенных с поля ввода 4 столбца\n",
    "message_entry=[Entry() for i in range (n)] #лист объектов типа поля ввода 2 столбца\n",
    "message_entry2=[Entry() for i in range (n)] #лист объектов типа поля ввода 4 столбца\n",
    "\n",
    "for i in range (n): #основной цикл генерции объектов в окне и их расположения по  сетке\n",
    "    label1 = Label(text=\"%s=\"%(s[i]),width=1,padx=10,justify=\"right\")# описание 1 столбца\n",
    "    label1.grid(row=i+1, column=1, ipadx=1, ipady=6, padx=1, pady=10,sticky=\"e\")# его расположение\n",
    "\n",
    "    message_entry[i] = Entry(bd=2,justify='left',textvariable=message_in[int('%d'%(i))])# описание 2 столбца\n",
    "    message_entry[i].grid(row=i+1, column=2, ipadx=1, ipady=6, padx=1, pady=10)\n",
    "\n",
    "    label1 = Label(text=\"*10^\")# описание 1 столбца\n",
    "    label1.grid(row=i+1, column=3, ipadx=1, ipady=6, padx=1, pady=10)\n",
    "\n",
    "    message_entry2[i] = Entry(textvariable=message_in2[int(('%d')%(i))],bd=2,justify='left',width=5)# описание 3 столбца\n",
    "    message_entry2[i].grid(row=i+1, column=4, ipadx=1, ipady=6, padx=1, pady=10)\n",
    "\n",
    "    label1 = Label(text=\"%s\"%(r[i]))# описание 4 столбца\n",
    "    label1.grid(row=i+1, column=5, ipadx=1, ipady=6, padx=1, pady=10)\n",
    "\n",
    "btn = Button( text=\"Ok\",command=click_button) # описание кнопки\n",
    "btn.grid(row=i+2, column=2, ipadx=10, ipady=6, padx=1, pady=10,columnspan=2)\n",
    "\n",
    "root.mainloop()\n",
    "\n"
   ]
  },
  {
   "cell_type": "code",
   "execution_count": null,
   "metadata": {},
   "outputs": [],
   "source": []
  }
 ]
}