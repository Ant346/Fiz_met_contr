{
 "metadata": {
  "language_info": {
   "codemirror_mode": {
    "name": "ipython",
    "version": 3
   },
   "file_extension": ".py",
   "mimetype": "text/x-python",
   "name": "python",
   "nbconvert_exporter": "python",
   "pygments_lexer": "ipython3",
   "version": "3.9.1-final"
  },
  "orig_nbformat": 2,
  "kernelspec": {
   "name": "python39164bit531b03fef9b54e418546cd7484d140fe",
   "display_name": "Python 3.9.1 64-bit",
   "language": "python"
  }
 },
 "nbformat": 4,
 "nbformat_minor": 2,
 "cells": [
  {
   "cell_type": "code",
   "execution_count": 2,
   "metadata": {},
   "outputs": [
    {
     "output_type": "stream",
     "name": "stderr",
     "text": [
      "Exception in Tkinter callback\nTraceback (most recent call last):\n  File \"C:\\Users\\Stalin\\AppData\\Local\\Programs\\Python\\Python39\\lib\\tkinter\\__init__.py\", line 1884, in __call__\n    return self.func(*args)\n  File \"<ipython-input-2-1f1989e0e787>\", line 29, in change\n    print(int(selection[1]))\nIndexError: list index out of range\n"
     ]
    }
   ],
   "source": [
    "from tkinter import *\n",
    "from win32api import GetSystemMetrics\n",
    "from tkinter.ttk import Frame, Button, Style\n",
    "width_w=300\n",
    "height_w=350\n",
    "\n",
    "width_c=GetSystemMetrics(0)//2-width_w//2\n",
    "height_c=GetSystemMetrics(1)//2-height_w//2\n",
    "\n",
    "main=Tk()\n",
    "main.title(\"Физ. методы контроля практика\")\n",
    "main.geometry(\"%dx%d+%d+%d\"%(width_w,height_w,width_c,height_c))\n",
    "\n",
    "label1 = Label(text=\"Выберите номер практической работы:\",width=42,padx=1,justify=\"left\")# описание 1 столбца\n",
    "label1.grid(row=1, column=1, ipadx=1, ipady=6, padx=1, pady=10)\n",
    "\n",
    "position=[\"%d\"%(i) for i in range (1,13)]\n",
    "select1= Listbox(bd=5,selectbackground='Gray',selectmode='Single')\n",
    "\n",
    "for i in position:\n",
    "    select1.insert(END, i)\n",
    "\n",
    "select1.grid(row=2, column=1, ipadx=1, ipady=6, padx=1, pady=10)\n",
    "\n",
    "def change ():\n",
    "    global selection\n",
    "    selection = [int(i) for i in str(select1.curselection()).split() if i.isdigit()] \n",
    "    main.destroy()\n",
    "    print(int(selection[1]))\n",
    "\n",
    "Button1=Button(text=\"Ok\",command=change)\n",
    "Button1.grid(row=3, column=1, ipadx=1, ipady=6, padx=1, pady=10)\n",
    "\n",
    "#import pr'%d'%(selection)\n",
    "main.mainloop()\n",
    "#if int(selection[1])+1==1:\n",
    " #   import pr_1"
   ]
  },
  {
   "cell_type": "code",
   "execution_count": null,
   "metadata": {},
   "outputs": [],
   "source": []
  }
 ]
}