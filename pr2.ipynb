{
 "metadata": {
  "language_info": {
   "codemirror_mode": {
    "name": "ipython",
    "version": 3
   },
   "file_extension": ".py",
   "mimetype": "text/x-python",
   "name": "python",
   "nbconvert_exporter": "python",
   "pygments_lexer": "ipython3",
   "version": "3.8.5-final"
  },
  "orig_nbformat": 2,
  "kernelspec": {
   "name": "python3",
   "display_name": "Python 3.8.5 32-bit",
   "metadata": {
    "interpreter": {
     "hash": "da0ebdb0063591e8656be8f5d83dfb24c7440b18257da1d1e3ac92b19370ed5d"
    }
   }
  }
 },
 "nbformat": 4,
 "nbformat_minor": 2,
 "cells": [
  {
   "cell_type": "code",
   "execution_count": 22,
   "metadata": {},
   "outputs": [],
   "source": [
    "from tkinter import *\n",
    "from win32api import GetSystemMetrics\n",
    "from tkinter.ttk import Frame, Button, Style\n",
    "import numpy as np\n",
    "import math as m\n",
    "\n",
    "width_w=300\n",
    "height_w=350\n",
    "\n",
    "width_c=GetSystemMetrics(0)//2-width_w//2\n",
    "height_c=GetSystemMetrics(1)//2-height_w//2\n",
    "\n",
    "root = Tk()\n",
    "root.title(\"Практическая работа #2 \")\n",
    "root.geometry(\"%dx%d+%d+%d\"%(width_w,height_w,width_c,height_c))\n",
    " # загенерили окно посередине экрана\n",
    "s=['W','L','r','L_sr','B']\n",
    "r=['','м','м','м','Тл']\n",
    "i=0\n",
    "n=5\n",
    "results=[0,0,0,0,0]\n",
    "\n",
    "# словарь для составления магнитной характеристики сталь Э41\n",
    "H_stal={0.1:0.4,\n",
    "        0.2:0.5,\n",
    "        0.3:0.6,\n",
    "        0.4:0.7,\n",
    "        0.45:0.75,\n",
    "        0.5:0.85,\n",
    "        0.6:1.1,\n",
    "        0.65:1.27,\n",
    "        0.7:1.45,\n",
    "        0.75:1.65,\n",
    "        0.8:1.85,\n",
    "        0.85:2.1,\n",
    "        0.9:2.35,\n",
    "        0.95:2.7,\n",
    "        1.0:3.0}\n",
    "B_stal=[0.1,0.2,0.3,0.4,0.45,0.5,0.6,0.65,0.7,0.75,0.8,0.85,0.9,0.95,1.0]  \n",
    "# словарь для составления магнитной характеристики пендемюра\n",
    "H_perm={0.1:0.57,\n",
    "        0.2:0.70,\n",
    "        0.3:0.73,\n",
    "        0.4:0.76,\n",
    "        0.45:0.79,\n",
    "        0.5:0.82,\n",
    "        0.6:0.85,\n",
    "        0.7:0.88,\n",
    "        0.8:0.91,\n",
    "        0.9:0.94,\n",
    "        1.0:0.97}\n",
    "B_perm=[0.1,0.2,0.3,0.4,0.45,0.5,0.6,0.7,0.8,0.9,1.0]  \n",
    "for i in range (len(H_stal)-1):\n",
    "    if m.fabs(B_stal[i]-B_stal[i+1])<min:\n",
    "        min=B_stal[i]\n",
    "\n",
    "# еще не обуздано\n",
    "def click_button(): #функция, которая вызывается при нажатии на кнопку\n",
    "    global int_message\n",
    "    global int_message2\n",
    "    int_message=[int(message_in[i].get()) for i in range(n) ] #лист, содержащий вывод с форм ввода 2 столбца\n",
    "    int_message2=[int(message_in2[i].get()) for i in range(n) ] #лист, содержащий вывод с форм ввода 4 столбца\n",
    "\n",
    "    # Код Романа --ОПАСНО--\n",
    "    for i in range(n):\n",
    "        int_message2[i]=10**int_message2[i]\n",
    "\n",
    "    results[0] = int_message[0] * int_message[3] * int_message2[3]\n",
    "    results[1] = results[0] / (int_message[1] * int_message2[1]) \n",
    "    print(str(results[0] / int_message[1] / int_message2[1] * 10e-3))\n",
    "    results[2] = 4 * m.pi * 10e-7 * results[1]\n",
    "    results[3] = results[2] * m.pi * int_message[2] * int_message2[2]\n",
    "\n",
    "    print(\"Исходные данные:\")\n",
    "    print(int_message)\n",
    "    print(int_message2)\n",
    "    print(\"\\n1) намагничивающая сила катушки равна произведению тока в катушке на ее число витков:\\nF = I * W = \" + str(results[0]) + \" A\")\n",
    "    print(\"\\n2) для длинных катушек, у которых l ≥10 r согласно закону полного тока:\\nH = (I * W)/ L = \" + str(results[1] * 1e-3) + \" кА/м\")\n",
    "    print(\"\\n3) определяем магнитную индукцию внутри катушки. Для воздуха относительная магнитная проницаемость μ=1, следовательно, B = μ0 * H = 4 * π * 10^-7 * H = \" + str(results[2]) + \" мТл\")\n",
    "    print(\"\\n4) определяем магнитный поток: Ф = B * S = B * π * r^2 = \" + str(results[3]) + \" мкВб\")\n",
    "    # Спокойно, код Романа закончился\n",
    "\n",
    "message_in =[IntVar() for i in range (n)] #лист значений выведенных с поля ввода 2 столбца\n",
    "message_in2 =[IntVar() for i in range (n)] #лист значений выведенных с поля ввода 4 столбца\n",
    "message_entry=[Entry() for i in range (n)] #лист объектов типа поля ввода 2 столбца\n",
    "message_entry2=[Entry() for i in range (n)] #лист объектов типа поля ввода 4 столбца\n",
    "\n",
    "for i in range (n): #основной цикл генерции объектов в окне и их расположения по  сетке\n",
    "    label1 = Label(text=\"%s=\"%(s[i]),width=1,padx=10,justify=\"right\")# описание 1 столбца\n",
    "    label1.grid(row=i+1, column=1, ipadx=1, ipady=6, padx=1, pady=10,sticky=\"e\")# его расположение\n",
    "\n",
    "    message_entry[i] = Entry(bd=2,justify='left',textvariable=message_in[int('%d'%(i))])# описание 2 столбца\n",
    "    message_entry[i].grid(row=i+1, column=2, ipadx=1, ipady=6, padx=1, pady=10)\n",
    "\n",
    "    label1 = Label(text=\"*10^\")# описание 1 столбца\n",
    "    label1.grid(row=i+1, column=3, ipadx=1, ipady=6, padx=1, pady=10)\n",
    "\n",
    "    message_entry2[i] = Entry(textvariable=message_in2[int(('%d')%(i))],bd=2,justify='left',width=5)# описание 3 столбца\n",
    "    message_entry2[i].grid(row=i+1, column=4, ipadx=1, ipady=6, padx=1, pady=10)\n",
    "\n",
    "    label1 = Label(text=\"%s\"%(r[i]))# описание 4 столбца\n",
    "    label1.grid(row=i+1, column=5, ipadx=1, ipady=6, padx=1, pady=10)\n",
    "\n",
    "btn = Button( text=\"Ok\",command=click_button) # описание кнопки\n",
    "btn.grid(row=i+2, column=2, ipadx=10, ipady=6, padx=1, pady=10,columnspan=2)\n",
    "\n",
    "root.mainloop()"
   ]
  },
  {
   "cell_type": "code",
   "execution_count": 6,
   "metadata": {},
   "outputs": [
    {
     "output_type": "stream",
     "name": "stdout",
     "text": [
      "3.0\n15\n"
     ]
    }
   ],
   "source": [
    "\n",
    "print(H_stal[1.0])\n",
    "print(len(H_stal))"
   ]
  },
  {
   "cell_type": "code",
   "execution_count": 38,
   "metadata": {},
   "outputs": [
    {
     "output_type": "execute_result",
     "data": {
      "text/plain": [
       "0.95"
      ]
     },
     "metadata": {},
     "execution_count": 38
    }
   ],
   "source": [
    "import math as m\n",
    "int_message=[1 for i in range (8)]\n",
    "int_message[4]=0.24\n",
    "# словарь для составления магнитной характеристики сталь Э41\n",
    "H_stal={0.1:0.4,\n",
    "        0.2:0.5,\n",
    "        0.3:0.6,\n",
    "        0.4:0.7,\n",
    "        0.45:0.75,\n",
    "        0.5:0.85,\n",
    "        0.6:1.1,\n",
    "        0.65:1.27,\n",
    "        0.7:1.45,\n",
    "        0.75:1.65,\n",
    "        0.8:1.85,\n",
    "        0.85:2.1,\n",
    "        0.9:2.35,\n",
    "        0.95:2.7,\n",
    "        1.0:3.0}\n",
    "B_stal=[0.1,0.2,0.3,0.4,0.45,0.5,0.6,0.65,0.7,0.75,0.8,0.85,0.9,0.95,1.0]  \n",
    "# словарь для составления магнитной характеристики пендемюра\n",
    "H_perm={0.1:0.57,\n",
    "        0.2:0.70,\n",
    "        0.3:0.73,\n",
    "        0.4:0.76,\n",
    "        0.45:0.79,\n",
    "        0.5:0.82,\n",
    "        0.6:0.85,\n",
    "        0.7:0.88,\n",
    "        0.8:0.91,\n",
    "        0.9:0.94,\n",
    "        1.0:0.97}\n",
    "min=B_stal[14]\n",
    "B_perm=[0.1,0.2,0.3,0.4,0.45,0.5,0.6,0.7,0.8,0.9,1.0]  \n",
    "if int_message[7]==1:\n",
    "    for i in range ((len(B_stal))-1):\n",
    "        if (m.fabs(int_message[4]-B_stal[i]) < min):\n",
    "           min=B_stal[i]\n",
    "else:\n",
    "    for i in range ((len(B_perm))-1):\n",
    "        if (m.fabs(int_message[4]-B_perm[i]) < min):\n",
    "           min=B_perm[i]\n",
    "\n",
    "min"
   ]
  },
  {
   "cell_type": "code",
   "execution_count": 34,
   "metadata": {},
   "outputs": [
    {
     "output_type": "execute_result",
     "data": {
      "text/plain": [
       "1"
      ]
     },
     "metadata": {},
     "execution_count": 34
    }
   ],
   "source": []
  },
  {
   "cell_type": "code",
   "execution_count": null,
   "metadata": {},
   "outputs": [],
   "source": []
  }
 ]
}